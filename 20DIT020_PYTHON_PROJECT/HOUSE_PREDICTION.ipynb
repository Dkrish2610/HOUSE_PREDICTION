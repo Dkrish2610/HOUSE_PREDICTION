{
 "cells": [
  {
   "cell_type": "markdown",
   "id": "2d7d91c1",
   "metadata": {
    "papermill": {
     "duration": 0.010349,
     "end_time": "2022-10-12T17:12:29.120689",
     "exception": false,
     "start_time": "2022-10-12T17:12:29.110340",
     "status": "completed"
    },
    "tags": []
   },
   "source": [
    "**Import all the required files**"
   ]
  },
  {
   "cell_type": "code",
   "execution_count": 38,
   "id": "67ced697",
   "metadata": {
    "execution": {
     "iopub.execute_input": "2022-10-12T17:12:29.139898Z",
     "iopub.status.busy": "2022-10-12T17:12:29.138862Z",
     "iopub.status.idle": "2022-10-12T17:12:30.573154Z",
     "shell.execute_reply": "2022-10-12T17:12:30.571612Z"
    },
    "papermill": {
     "duration": 1.447875,
     "end_time": "2022-10-12T17:12:30.576603",
     "exception": false,
     "start_time": "2022-10-12T17:12:29.128728",
     "status": "completed"
    },
    "tags": []
   },
   "outputs": [],
   "source": [
    "import numpy as np\n",
    "import pandas as pd\n",
    "import seaborn as sns\n",
    "import matplotlib.pyplot as plt\n",
    "from sklearn.model_selection import train_test_split\n",
    "from sklearn.linear_model import LinearRegression\n",
    "from sklearn import metrics\n"
   ]
  },
  {
   "cell_type": "markdown",
   "id": "1555d484",
   "metadata": {
    "papermill": {
     "duration": 0.007759,
     "end_time": "2022-10-12T17:12:30.593481",
     "exception": false,
     "start_time": "2022-10-12T17:12:30.585722",
     "status": "completed"
    },
    "tags": []
   },
   "source": [
    "Let’s load the Kaggle dataset into a Pandas data frame:"
   ]
  },
  {
   "cell_type": "code",
   "execution_count": 39,
   "id": "ff17fe7e",
   "metadata": {
    "execution": {
     "iopub.execute_input": "2022-10-12T17:12:30.611131Z",
     "iopub.status.busy": "2022-10-12T17:12:30.610713Z",
     "iopub.status.idle": "2022-10-12T17:12:30.664090Z",
     "shell.execute_reply": "2022-10-12T17:12:30.662246Z"
    },
    "papermill": {
     "duration": 0.066893,
     "end_time": "2022-10-12T17:12:30.668175",
     "exception": false,
     "start_time": "2022-10-12T17:12:30.601282",
     "status": "completed"
    },
    "tags": []
   },
   "outputs": [],
   "source": [
    "data = pd.read_csv(\"data.csv\")"
   ]
  },
  {
   "cell_type": "markdown",
   "id": "531d017f",
   "metadata": {
    "papermill": {
     "duration": 0.008343,
     "end_time": "2022-10-12T17:12:30.685339",
     "exception": false,
     "start_time": "2022-10-12T17:12:30.676996",
     "status": "completed"
    },
    "tags": []
   },
   "source": [
    "**Exploratory Data Analysis**"
   ]
  },
  {
   "cell_type": "markdown",
   "id": "b9908fc1",
   "metadata": {
    "papermill": {
     "duration": 0.01113,
     "end_time": "2022-10-12T17:12:30.704515",
     "exception": false,
     "start_time": "2022-10-12T17:12:30.693385",
     "status": "completed"
    },
    "tags": []
   },
   "source": []
  },
  {
   "cell_type": "code",
   "execution_count": 40,
   "id": "e2bd727c",
   "metadata": {
    "execution": {
     "iopub.execute_input": "2022-10-12T17:12:30.722984Z",
     "iopub.status.busy": "2022-10-12T17:12:30.722218Z",
     "iopub.status.idle": "2022-10-12T17:12:30.749607Z",
     "shell.execute_reply": "2022-10-12T17:12:30.748473Z"
    },
    "papermill": {
     "duration": 0.039543,
     "end_time": "2022-10-12T17:12:30.752399",
     "exception": false,
     "start_time": "2022-10-12T17:12:30.712856",
     "status": "completed"
    },
    "tags": []
   },
   "outputs": [
    {
     "data": {
      "text/html": [
       "<div>\n",
       "<style scoped>\n",
       "    .dataframe tbody tr th:only-of-type {\n",
       "        vertical-align: middle;\n",
       "    }\n",
       "\n",
       "    .dataframe tbody tr th {\n",
       "        vertical-align: top;\n",
       "    }\n",
       "\n",
       "    .dataframe thead th {\n",
       "        text-align: right;\n",
       "    }\n",
       "</style>\n",
       "<table border=\"1\" class=\"dataframe\">\n",
       "  <thead>\n",
       "    <tr style=\"text-align: right;\">\n",
       "      <th></th>\n",
       "      <th>date</th>\n",
       "      <th>price</th>\n",
       "      <th>bedrooms</th>\n",
       "      <th>bathrooms</th>\n",
       "      <th>sqft_living</th>\n",
       "      <th>sqft_lot</th>\n",
       "      <th>floors</th>\n",
       "      <th>waterfront</th>\n",
       "      <th>view</th>\n",
       "      <th>condition</th>\n",
       "      <th>sqft_above</th>\n",
       "      <th>sqft_basement</th>\n",
       "      <th>yr_built</th>\n",
       "      <th>yr_renovated</th>\n",
       "      <th>street</th>\n",
       "      <th>city</th>\n",
       "      <th>statezip</th>\n",
       "      <th>country</th>\n",
       "    </tr>\n",
       "  </thead>\n",
       "  <tbody>\n",
       "    <tr>\n",
       "      <th>0</th>\n",
       "      <td>2014-05-02 00:00:00</td>\n",
       "      <td>313000.0</td>\n",
       "      <td>3.0</td>\n",
       "      <td>1.50</td>\n",
       "      <td>1340</td>\n",
       "      <td>7912</td>\n",
       "      <td>1.5</td>\n",
       "      <td>0</td>\n",
       "      <td>0</td>\n",
       "      <td>3</td>\n",
       "      <td>1340</td>\n",
       "      <td>0</td>\n",
       "      <td>1955</td>\n",
       "      <td>2005</td>\n",
       "      <td>18810 Densmore Ave N</td>\n",
       "      <td>Shoreline</td>\n",
       "      <td>WA 98133</td>\n",
       "      <td>USA</td>\n",
       "    </tr>\n",
       "    <tr>\n",
       "      <th>1</th>\n",
       "      <td>2014-05-02 00:00:00</td>\n",
       "      <td>2384000.0</td>\n",
       "      <td>5.0</td>\n",
       "      <td>2.50</td>\n",
       "      <td>3650</td>\n",
       "      <td>9050</td>\n",
       "      <td>2.0</td>\n",
       "      <td>0</td>\n",
       "      <td>4</td>\n",
       "      <td>5</td>\n",
       "      <td>3370</td>\n",
       "      <td>280</td>\n",
       "      <td>1921</td>\n",
       "      <td>0</td>\n",
       "      <td>709 W Blaine St</td>\n",
       "      <td>Seattle</td>\n",
       "      <td>WA 98119</td>\n",
       "      <td>USA</td>\n",
       "    </tr>\n",
       "    <tr>\n",
       "      <th>2</th>\n",
       "      <td>2014-05-02 00:00:00</td>\n",
       "      <td>342000.0</td>\n",
       "      <td>3.0</td>\n",
       "      <td>2.00</td>\n",
       "      <td>1930</td>\n",
       "      <td>11947</td>\n",
       "      <td>1.0</td>\n",
       "      <td>0</td>\n",
       "      <td>0</td>\n",
       "      <td>4</td>\n",
       "      <td>1930</td>\n",
       "      <td>0</td>\n",
       "      <td>1966</td>\n",
       "      <td>0</td>\n",
       "      <td>26206-26214 143rd Ave SE</td>\n",
       "      <td>Kent</td>\n",
       "      <td>WA 98042</td>\n",
       "      <td>USA</td>\n",
       "    </tr>\n",
       "    <tr>\n",
       "      <th>3</th>\n",
       "      <td>2014-05-02 00:00:00</td>\n",
       "      <td>420000.0</td>\n",
       "      <td>3.0</td>\n",
       "      <td>2.25</td>\n",
       "      <td>2000</td>\n",
       "      <td>8030</td>\n",
       "      <td>1.0</td>\n",
       "      <td>0</td>\n",
       "      <td>0</td>\n",
       "      <td>4</td>\n",
       "      <td>1000</td>\n",
       "      <td>1000</td>\n",
       "      <td>1963</td>\n",
       "      <td>0</td>\n",
       "      <td>857 170th Pl NE</td>\n",
       "      <td>Bellevue</td>\n",
       "      <td>WA 98008</td>\n",
       "      <td>USA</td>\n",
       "    </tr>\n",
       "    <tr>\n",
       "      <th>4</th>\n",
       "      <td>2014-05-02 00:00:00</td>\n",
       "      <td>550000.0</td>\n",
       "      <td>4.0</td>\n",
       "      <td>2.50</td>\n",
       "      <td>1940</td>\n",
       "      <td>10500</td>\n",
       "      <td>1.0</td>\n",
       "      <td>0</td>\n",
       "      <td>0</td>\n",
       "      <td>4</td>\n",
       "      <td>1140</td>\n",
       "      <td>800</td>\n",
       "      <td>1976</td>\n",
       "      <td>1992</td>\n",
       "      <td>9105 170th Ave NE</td>\n",
       "      <td>Redmond</td>\n",
       "      <td>WA 98052</td>\n",
       "      <td>USA</td>\n",
       "    </tr>\n",
       "  </tbody>\n",
       "</table>\n",
       "</div>"
      ],
      "text/plain": [
       "                  date      price  bedrooms  bathrooms  sqft_living  sqft_lot  \\\n",
       "0  2014-05-02 00:00:00   313000.0       3.0       1.50         1340      7912   \n",
       "1  2014-05-02 00:00:00  2384000.0       5.0       2.50         3650      9050   \n",
       "2  2014-05-02 00:00:00   342000.0       3.0       2.00         1930     11947   \n",
       "3  2014-05-02 00:00:00   420000.0       3.0       2.25         2000      8030   \n",
       "4  2014-05-02 00:00:00   550000.0       4.0       2.50         1940     10500   \n",
       "\n",
       "   floors  waterfront  view  condition  sqft_above  sqft_basement  yr_built  \\\n",
       "0     1.5           0     0          3        1340              0      1955   \n",
       "1     2.0           0     4          5        3370            280      1921   \n",
       "2     1.0           0     0          4        1930              0      1966   \n",
       "3     1.0           0     0          4        1000           1000      1963   \n",
       "4     1.0           0     0          4        1140            800      1976   \n",
       "\n",
       "   yr_renovated                    street       city  statezip country  \n",
       "0          2005      18810 Densmore Ave N  Shoreline  WA 98133     USA  \n",
       "1             0           709 W Blaine St    Seattle  WA 98119     USA  \n",
       "2             0  26206-26214 143rd Ave SE       Kent  WA 98042     USA  \n",
       "3             0           857 170th Pl NE   Bellevue  WA 98008     USA  \n",
       "4          1992         9105 170th Ave NE    Redmond  WA 98052     USA  "
      ]
     },
     "execution_count": 40,
     "metadata": {},
     "output_type": "execute_result"
    }
   ],
   "source": [
    "data.head()"
   ]
  },
  {
   "cell_type": "code",
   "execution_count": 41,
   "id": "b59c9e93",
   "metadata": {
    "execution": {
     "iopub.execute_input": "2022-10-12T17:12:30.769984Z",
     "iopub.status.busy": "2022-10-12T17:12:30.769542Z",
     "iopub.status.idle": "2022-10-12T17:12:30.780821Z",
     "shell.execute_reply": "2022-10-12T17:12:30.778028Z"
    },
    "papermill": {
     "duration": 0.024511,
     "end_time": "2022-10-12T17:12:30.784826",
     "exception": false,
     "start_time": "2022-10-12T17:12:30.760315",
     "status": "completed"
    },
    "tags": []
   },
   "outputs": [
    {
     "data": {
      "text/plain": [
       "(4600, 18)"
      ]
     },
     "execution_count": 41,
     "metadata": {},
     "output_type": "execute_result"
    }
   ],
   "source": [
    "data.shape"
   ]
  },
  {
   "cell_type": "code",
   "execution_count": 42,
   "id": "8e0ced4d",
   "metadata": {
    "execution": {
     "iopub.execute_input": "2022-10-12T17:12:30.804511Z",
     "iopub.status.busy": "2022-10-12T17:12:30.804146Z",
     "iopub.status.idle": "2022-10-12T17:12:30.838258Z",
     "shell.execute_reply": "2022-10-12T17:12:30.836743Z"
    },
    "papermill": {
     "duration": 0.047334,
     "end_time": "2022-10-12T17:12:30.840783",
     "exception": false,
     "start_time": "2022-10-12T17:12:30.793449",
     "status": "completed"
    },
    "tags": []
   },
   "outputs": [
    {
     "name": "stdout",
     "output_type": "stream",
     "text": [
      "<class 'pandas.core.frame.DataFrame'>\n",
      "RangeIndex: 4600 entries, 0 to 4599\n",
      "Data columns (total 18 columns):\n",
      " #   Column         Non-Null Count  Dtype  \n",
      "---  ------         --------------  -----  \n",
      " 0   date           4600 non-null   object \n",
      " 1   price          4600 non-null   float64\n",
      " 2   bedrooms       4600 non-null   float64\n",
      " 3   bathrooms      4600 non-null   float64\n",
      " 4   sqft_living    4600 non-null   int64  \n",
      " 5   sqft_lot       4600 non-null   int64  \n",
      " 6   floors         4600 non-null   float64\n",
      " 7   waterfront     4600 non-null   int64  \n",
      " 8   view           4600 non-null   int64  \n",
      " 9   condition      4600 non-null   int64  \n",
      " 10  sqft_above     4600 non-null   int64  \n",
      " 11  sqft_basement  4600 non-null   int64  \n",
      " 12  yr_built       4600 non-null   int64  \n",
      " 13  yr_renovated   4600 non-null   int64  \n",
      " 14  street         4600 non-null   object \n",
      " 15  city           4600 non-null   object \n",
      " 16  statezip       4600 non-null   object \n",
      " 17  country        4600 non-null   object \n",
      "dtypes: float64(4), int64(9), object(5)\n",
      "memory usage: 647.0+ KB\n"
     ]
    }
   ],
   "source": [
    "data.info()\n"
   ]
  },
  {
   "cell_type": "markdown",
   "id": "98198b36",
   "metadata": {
    "papermill": {
     "duration": 0.007675,
     "end_time": "2022-10-12T17:12:30.858482",
     "exception": false,
     "start_time": "2022-10-12T17:12:30.850807",
     "status": "completed"
    },
    "tags": []
   },
   "source": []
  },
  {
   "cell_type": "code",
   "execution_count": 43,
   "id": "37805982",
   "metadata": {
    "execution": {
     "iopub.execute_input": "2022-10-12T17:12:30.880534Z",
     "iopub.status.busy": "2022-10-12T17:12:30.879522Z",
     "iopub.status.idle": "2022-10-12T17:12:30.889174Z",
     "shell.execute_reply": "2022-10-12T17:12:30.887485Z"
    },
    "papermill": {
     "duration": 0.025547,
     "end_time": "2022-10-12T17:12:30.891868",
     "exception": false,
     "start_time": "2022-10-12T17:12:30.866321",
     "status": "completed"
    },
    "tags": []
   },
   "outputs": [
    {
     "data": {
      "text/plain": [
       "Index(['date', 'price', 'bedrooms', 'bathrooms', 'sqft_living', 'sqft_lot',\n",
       "       'floors', 'waterfront', 'view', 'condition', 'sqft_above',\n",
       "       'sqft_basement', 'yr_built', 'yr_renovated', 'street', 'city',\n",
       "       'statezip', 'country'],\n",
       "      dtype='object')"
      ]
     },
     "execution_count": 43,
     "metadata": {},
     "output_type": "execute_result"
    }
   ],
   "source": [
    "data.columns\n"
   ]
  },
  {
   "cell_type": "code",
   "execution_count": 44,
   "id": "b8c374c6",
   "metadata": {
    "execution": {
     "iopub.execute_input": "2022-10-12T17:12:30.913209Z",
     "iopub.status.busy": "2022-10-12T17:12:30.912267Z",
     "iopub.status.idle": "2022-10-12T17:12:30.926696Z",
     "shell.execute_reply": "2022-10-12T17:12:30.925266Z"
    },
    "papermill": {
     "duration": 0.0282,
     "end_time": "2022-10-12T17:12:30.929362",
     "exception": false,
     "start_time": "2022-10-12T17:12:30.901162",
     "status": "completed"
    },
    "tags": []
   },
   "outputs": [
    {
     "data": {
      "text/plain": [
       "date             0\n",
       "price            0\n",
       "bedrooms         0\n",
       "bathrooms        0\n",
       "sqft_living      0\n",
       "sqft_lot         0\n",
       "floors           0\n",
       "waterfront       0\n",
       "view             0\n",
       "condition        0\n",
       "sqft_above       0\n",
       "sqft_basement    0\n",
       "yr_built         0\n",
       "yr_renovated     0\n",
       "street           0\n",
       "city             0\n",
       "statezip         0\n",
       "country          0\n",
       "dtype: int64"
      ]
     },
     "execution_count": 44,
     "metadata": {},
     "output_type": "execute_result"
    }
   ],
   "source": [
    "data.isnull().sum()\n"
   ]
  },
  {
   "cell_type": "code",
   "execution_count": 45,
   "id": "7b26fd54",
   "metadata": {
    "execution": {
     "iopub.execute_input": "2022-10-12T17:12:30.950200Z",
     "iopub.status.busy": "2022-10-12T17:12:30.949276Z",
     "iopub.status.idle": "2022-10-12T17:12:31.017671Z",
     "shell.execute_reply": "2022-10-12T17:12:31.016590Z"
    },
    "papermill": {
     "duration": 0.080145,
     "end_time": "2022-10-12T17:12:31.019837",
     "exception": false,
     "start_time": "2022-10-12T17:12:30.939692",
     "status": "completed"
    },
    "tags": []
   },
   "outputs": [
    {
     "data": {
      "text/html": [
       "<div>\n",
       "<style scoped>\n",
       "    .dataframe tbody tr th:only-of-type {\n",
       "        vertical-align: middle;\n",
       "    }\n",
       "\n",
       "    .dataframe tbody tr th {\n",
       "        vertical-align: top;\n",
       "    }\n",
       "\n",
       "    .dataframe thead th {\n",
       "        text-align: right;\n",
       "    }\n",
       "</style>\n",
       "<table border=\"1\" class=\"dataframe\">\n",
       "  <thead>\n",
       "    <tr style=\"text-align: right;\">\n",
       "      <th></th>\n",
       "      <th>price</th>\n",
       "      <th>bedrooms</th>\n",
       "      <th>bathrooms</th>\n",
       "      <th>sqft_living</th>\n",
       "      <th>sqft_lot</th>\n",
       "      <th>floors</th>\n",
       "      <th>waterfront</th>\n",
       "      <th>view</th>\n",
       "      <th>condition</th>\n",
       "      <th>sqft_above</th>\n",
       "      <th>sqft_basement</th>\n",
       "      <th>yr_built</th>\n",
       "      <th>yr_renovated</th>\n",
       "    </tr>\n",
       "  </thead>\n",
       "  <tbody>\n",
       "    <tr>\n",
       "      <th>count</th>\n",
       "      <td>4600.00</td>\n",
       "      <td>4600.00</td>\n",
       "      <td>4600.00</td>\n",
       "      <td>4600.00</td>\n",
       "      <td>4600.00</td>\n",
       "      <td>4600.00</td>\n",
       "      <td>4600.00</td>\n",
       "      <td>4600.00</td>\n",
       "      <td>4600.00</td>\n",
       "      <td>4600.00</td>\n",
       "      <td>4600.00</td>\n",
       "      <td>4600.00</td>\n",
       "      <td>4600.00</td>\n",
       "    </tr>\n",
       "    <tr>\n",
       "      <th>mean</th>\n",
       "      <td>551962.99</td>\n",
       "      <td>3.40</td>\n",
       "      <td>2.16</td>\n",
       "      <td>2139.35</td>\n",
       "      <td>14852.52</td>\n",
       "      <td>1.51</td>\n",
       "      <td>0.01</td>\n",
       "      <td>0.24</td>\n",
       "      <td>3.45</td>\n",
       "      <td>1827.27</td>\n",
       "      <td>312.08</td>\n",
       "      <td>1970.79</td>\n",
       "      <td>808.61</td>\n",
       "    </tr>\n",
       "    <tr>\n",
       "      <th>std</th>\n",
       "      <td>563834.70</td>\n",
       "      <td>0.91</td>\n",
       "      <td>0.78</td>\n",
       "      <td>963.21</td>\n",
       "      <td>35884.44</td>\n",
       "      <td>0.54</td>\n",
       "      <td>0.08</td>\n",
       "      <td>0.78</td>\n",
       "      <td>0.68</td>\n",
       "      <td>862.17</td>\n",
       "      <td>464.14</td>\n",
       "      <td>29.73</td>\n",
       "      <td>979.41</td>\n",
       "    </tr>\n",
       "    <tr>\n",
       "      <th>min</th>\n",
       "      <td>0.00</td>\n",
       "      <td>0.00</td>\n",
       "      <td>0.00</td>\n",
       "      <td>370.00</td>\n",
       "      <td>638.00</td>\n",
       "      <td>1.00</td>\n",
       "      <td>0.00</td>\n",
       "      <td>0.00</td>\n",
       "      <td>1.00</td>\n",
       "      <td>370.00</td>\n",
       "      <td>0.00</td>\n",
       "      <td>1900.00</td>\n",
       "      <td>0.00</td>\n",
       "    </tr>\n",
       "    <tr>\n",
       "      <th>25%</th>\n",
       "      <td>322875.00</td>\n",
       "      <td>3.00</td>\n",
       "      <td>1.75</td>\n",
       "      <td>1460.00</td>\n",
       "      <td>5000.75</td>\n",
       "      <td>1.00</td>\n",
       "      <td>0.00</td>\n",
       "      <td>0.00</td>\n",
       "      <td>3.00</td>\n",
       "      <td>1190.00</td>\n",
       "      <td>0.00</td>\n",
       "      <td>1951.00</td>\n",
       "      <td>0.00</td>\n",
       "    </tr>\n",
       "    <tr>\n",
       "      <th>50%</th>\n",
       "      <td>460943.46</td>\n",
       "      <td>3.00</td>\n",
       "      <td>2.25</td>\n",
       "      <td>1980.00</td>\n",
       "      <td>7683.00</td>\n",
       "      <td>1.50</td>\n",
       "      <td>0.00</td>\n",
       "      <td>0.00</td>\n",
       "      <td>3.00</td>\n",
       "      <td>1590.00</td>\n",
       "      <td>0.00</td>\n",
       "      <td>1976.00</td>\n",
       "      <td>0.00</td>\n",
       "    </tr>\n",
       "    <tr>\n",
       "      <th>75%</th>\n",
       "      <td>654962.50</td>\n",
       "      <td>4.00</td>\n",
       "      <td>2.50</td>\n",
       "      <td>2620.00</td>\n",
       "      <td>11001.25</td>\n",
       "      <td>2.00</td>\n",
       "      <td>0.00</td>\n",
       "      <td>0.00</td>\n",
       "      <td>4.00</td>\n",
       "      <td>2300.00</td>\n",
       "      <td>610.00</td>\n",
       "      <td>1997.00</td>\n",
       "      <td>1999.00</td>\n",
       "    </tr>\n",
       "    <tr>\n",
       "      <th>max</th>\n",
       "      <td>26590000.00</td>\n",
       "      <td>9.00</td>\n",
       "      <td>8.00</td>\n",
       "      <td>13540.00</td>\n",
       "      <td>1074218.00</td>\n",
       "      <td>3.50</td>\n",
       "      <td>1.00</td>\n",
       "      <td>4.00</td>\n",
       "      <td>5.00</td>\n",
       "      <td>9410.00</td>\n",
       "      <td>4820.00</td>\n",
       "      <td>2014.00</td>\n",
       "      <td>2014.00</td>\n",
       "    </tr>\n",
       "  </tbody>\n",
       "</table>\n",
       "</div>"
      ],
      "text/plain": [
       "             price  bedrooms  bathrooms  sqft_living    sqft_lot   floors  \\\n",
       "count      4600.00   4600.00    4600.00      4600.00     4600.00  4600.00   \n",
       "mean     551962.99      3.40       2.16      2139.35    14852.52     1.51   \n",
       "std      563834.70      0.91       0.78       963.21    35884.44     0.54   \n",
       "min           0.00      0.00       0.00       370.00      638.00     1.00   \n",
       "25%      322875.00      3.00       1.75      1460.00     5000.75     1.00   \n",
       "50%      460943.46      3.00       2.25      1980.00     7683.00     1.50   \n",
       "75%      654962.50      4.00       2.50      2620.00    11001.25     2.00   \n",
       "max    26590000.00      9.00       8.00     13540.00  1074218.00     3.50   \n",
       "\n",
       "       waterfront     view  condition  sqft_above  sqft_basement  yr_built  \\\n",
       "count     4600.00  4600.00    4600.00     4600.00        4600.00   4600.00   \n",
       "mean         0.01     0.24       3.45     1827.27         312.08   1970.79   \n",
       "std          0.08     0.78       0.68      862.17         464.14     29.73   \n",
       "min          0.00     0.00       1.00      370.00           0.00   1900.00   \n",
       "25%          0.00     0.00       3.00     1190.00           0.00   1951.00   \n",
       "50%          0.00     0.00       3.00     1590.00           0.00   1976.00   \n",
       "75%          0.00     0.00       4.00     2300.00         610.00   1997.00   \n",
       "max          1.00     4.00       5.00     9410.00        4820.00   2014.00   \n",
       "\n",
       "       yr_renovated  \n",
       "count       4600.00  \n",
       "mean         808.61  \n",
       "std          979.41  \n",
       "min            0.00  \n",
       "25%            0.00  \n",
       "50%            0.00  \n",
       "75%         1999.00  \n",
       "max         2014.00  "
      ]
     },
     "execution_count": 45,
     "metadata": {},
     "output_type": "execute_result"
    }
   ],
   "source": [
    "np.round(data.describe(), 2)"
   ]
  },
  {
   "cell_type": "markdown",
   "id": "be47d55a",
   "metadata": {
    "papermill": {
     "duration": 0.008065,
     "end_time": "2022-10-12T17:12:31.036185",
     "exception": false,
     "start_time": "2022-10-12T17:12:31.028120",
     "status": "completed"
    },
    "tags": []
   },
   "source": [
    "Seaborn Heatmap for Visualising Data Correlations\n",
    "Heatmaps are a great way to visually summarise tabular data we can easily identify trends and outliers within our dataset"
   ]
  },
  {
   "cell_type": "code",
   "execution_count": 46,
   "id": "775e78f6",
   "metadata": {
    "execution": {
     "iopub.execute_input": "2022-10-12T17:12:31.055599Z",
     "iopub.status.busy": "2022-10-12T17:12:31.054634Z",
     "iopub.status.idle": "2022-10-12T17:12:31.082708Z",
     "shell.execute_reply": "2022-10-12T17:12:31.081332Z"
    },
    "papermill": {
     "duration": 0.040951,
     "end_time": "2022-10-12T17:12:31.085391",
     "exception": false,
     "start_time": "2022-10-12T17:12:31.044440",
     "status": "completed"
    },
    "scrolled": true,
    "tags": []
   },
   "outputs": [
    {
     "data": {
      "text/html": [
       "<div>\n",
       "<style scoped>\n",
       "    .dataframe tbody tr th:only-of-type {\n",
       "        vertical-align: middle;\n",
       "    }\n",
       "\n",
       "    .dataframe tbody tr th {\n",
       "        vertical-align: top;\n",
       "    }\n",
       "\n",
       "    .dataframe thead th {\n",
       "        text-align: right;\n",
       "    }\n",
       "</style>\n",
       "<table border=\"1\" class=\"dataframe\">\n",
       "  <thead>\n",
       "    <tr style=\"text-align: right;\">\n",
       "      <th></th>\n",
       "      <th>price</th>\n",
       "      <th>bedrooms</th>\n",
       "      <th>bathrooms</th>\n",
       "      <th>sqft_living</th>\n",
       "      <th>sqft_lot</th>\n",
       "      <th>floors</th>\n",
       "      <th>waterfront</th>\n",
       "      <th>view</th>\n",
       "      <th>condition</th>\n",
       "      <th>sqft_above</th>\n",
       "      <th>sqft_basement</th>\n",
       "      <th>yr_built</th>\n",
       "      <th>yr_renovated</th>\n",
       "    </tr>\n",
       "  </thead>\n",
       "  <tbody>\n",
       "    <tr>\n",
       "      <th>price</th>\n",
       "      <td>1.000000</td>\n",
       "      <td>0.200336</td>\n",
       "      <td>0.327110</td>\n",
       "      <td>0.430410</td>\n",
       "      <td>0.050451</td>\n",
       "      <td>0.151461</td>\n",
       "      <td>0.135648</td>\n",
       "      <td>0.228504</td>\n",
       "      <td>0.034915</td>\n",
       "      <td>0.367570</td>\n",
       "      <td>0.210427</td>\n",
       "      <td>0.021857</td>\n",
       "      <td>-0.028774</td>\n",
       "    </tr>\n",
       "    <tr>\n",
       "      <th>bedrooms</th>\n",
       "      <td>0.200336</td>\n",
       "      <td>1.000000</td>\n",
       "      <td>0.545920</td>\n",
       "      <td>0.594884</td>\n",
       "      <td>0.068819</td>\n",
       "      <td>0.177895</td>\n",
       "      <td>-0.003483</td>\n",
       "      <td>0.111028</td>\n",
       "      <td>0.025080</td>\n",
       "      <td>0.484705</td>\n",
       "      <td>0.334165</td>\n",
       "      <td>0.142461</td>\n",
       "      <td>-0.061082</td>\n",
       "    </tr>\n",
       "    <tr>\n",
       "      <th>bathrooms</th>\n",
       "      <td>0.327110</td>\n",
       "      <td>0.545920</td>\n",
       "      <td>1.000000</td>\n",
       "      <td>0.761154</td>\n",
       "      <td>0.107837</td>\n",
       "      <td>0.486428</td>\n",
       "      <td>0.076232</td>\n",
       "      <td>0.211960</td>\n",
       "      <td>-0.119994</td>\n",
       "      <td>0.689918</td>\n",
       "      <td>0.298020</td>\n",
       "      <td>0.463498</td>\n",
       "      <td>-0.215886</td>\n",
       "    </tr>\n",
       "    <tr>\n",
       "      <th>sqft_living</th>\n",
       "      <td>0.430410</td>\n",
       "      <td>0.594884</td>\n",
       "      <td>0.761154</td>\n",
       "      <td>1.000000</td>\n",
       "      <td>0.210538</td>\n",
       "      <td>0.344850</td>\n",
       "      <td>0.117616</td>\n",
       "      <td>0.311009</td>\n",
       "      <td>-0.062826</td>\n",
       "      <td>0.876443</td>\n",
       "      <td>0.447206</td>\n",
       "      <td>0.287775</td>\n",
       "      <td>-0.122817</td>\n",
       "    </tr>\n",
       "    <tr>\n",
       "      <th>sqft_lot</th>\n",
       "      <td>0.050451</td>\n",
       "      <td>0.068819</td>\n",
       "      <td>0.107837</td>\n",
       "      <td>0.210538</td>\n",
       "      <td>1.000000</td>\n",
       "      <td>0.003750</td>\n",
       "      <td>0.017241</td>\n",
       "      <td>0.073907</td>\n",
       "      <td>0.000558</td>\n",
       "      <td>0.216455</td>\n",
       "      <td>0.034842</td>\n",
       "      <td>0.050706</td>\n",
       "      <td>-0.022730</td>\n",
       "    </tr>\n",
       "    <tr>\n",
       "      <th>floors</th>\n",
       "      <td>0.151461</td>\n",
       "      <td>0.177895</td>\n",
       "      <td>0.486428</td>\n",
       "      <td>0.344850</td>\n",
       "      <td>0.003750</td>\n",
       "      <td>1.000000</td>\n",
       "      <td>0.022024</td>\n",
       "      <td>0.031211</td>\n",
       "      <td>-0.275013</td>\n",
       "      <td>0.522814</td>\n",
       "      <td>-0.255510</td>\n",
       "      <td>0.467481</td>\n",
       "      <td>-0.233996</td>\n",
       "    </tr>\n",
       "    <tr>\n",
       "      <th>waterfront</th>\n",
       "      <td>0.135648</td>\n",
       "      <td>-0.003483</td>\n",
       "      <td>0.076232</td>\n",
       "      <td>0.117616</td>\n",
       "      <td>0.017241</td>\n",
       "      <td>0.022024</td>\n",
       "      <td>1.000000</td>\n",
       "      <td>0.360935</td>\n",
       "      <td>0.000352</td>\n",
       "      <td>0.078911</td>\n",
       "      <td>0.097501</td>\n",
       "      <td>-0.023563</td>\n",
       "      <td>0.008625</td>\n",
       "    </tr>\n",
       "    <tr>\n",
       "      <th>view</th>\n",
       "      <td>0.228504</td>\n",
       "      <td>0.111028</td>\n",
       "      <td>0.211960</td>\n",
       "      <td>0.311009</td>\n",
       "      <td>0.073907</td>\n",
       "      <td>0.031211</td>\n",
       "      <td>0.360935</td>\n",
       "      <td>1.000000</td>\n",
       "      <td>0.063077</td>\n",
       "      <td>0.174327</td>\n",
       "      <td>0.321602</td>\n",
       "      <td>-0.064465</td>\n",
       "      <td>0.022967</td>\n",
       "    </tr>\n",
       "    <tr>\n",
       "      <th>condition</th>\n",
       "      <td>0.034915</td>\n",
       "      <td>0.025080</td>\n",
       "      <td>-0.119994</td>\n",
       "      <td>-0.062826</td>\n",
       "      <td>0.000558</td>\n",
       "      <td>-0.275013</td>\n",
       "      <td>0.000352</td>\n",
       "      <td>0.063077</td>\n",
       "      <td>1.000000</td>\n",
       "      <td>-0.178196</td>\n",
       "      <td>0.200632</td>\n",
       "      <td>-0.399698</td>\n",
       "      <td>-0.186818</td>\n",
       "    </tr>\n",
       "    <tr>\n",
       "      <th>sqft_above</th>\n",
       "      <td>0.367570</td>\n",
       "      <td>0.484705</td>\n",
       "      <td>0.689918</td>\n",
       "      <td>0.876443</td>\n",
       "      <td>0.216455</td>\n",
       "      <td>0.522814</td>\n",
       "      <td>0.078911</td>\n",
       "      <td>0.174327</td>\n",
       "      <td>-0.178196</td>\n",
       "      <td>1.000000</td>\n",
       "      <td>-0.038723</td>\n",
       "      <td>0.408535</td>\n",
       "      <td>-0.160426</td>\n",
       "    </tr>\n",
       "    <tr>\n",
       "      <th>sqft_basement</th>\n",
       "      <td>0.210427</td>\n",
       "      <td>0.334165</td>\n",
       "      <td>0.298020</td>\n",
       "      <td>0.447206</td>\n",
       "      <td>0.034842</td>\n",
       "      <td>-0.255510</td>\n",
       "      <td>0.097501</td>\n",
       "      <td>0.321602</td>\n",
       "      <td>0.200632</td>\n",
       "      <td>-0.038723</td>\n",
       "      <td>1.000000</td>\n",
       "      <td>-0.161675</td>\n",
       "      <td>0.043125</td>\n",
       "    </tr>\n",
       "    <tr>\n",
       "      <th>yr_built</th>\n",
       "      <td>0.021857</td>\n",
       "      <td>0.142461</td>\n",
       "      <td>0.463498</td>\n",
       "      <td>0.287775</td>\n",
       "      <td>0.050706</td>\n",
       "      <td>0.467481</td>\n",
       "      <td>-0.023563</td>\n",
       "      <td>-0.064465</td>\n",
       "      <td>-0.399698</td>\n",
       "      <td>0.408535</td>\n",
       "      <td>-0.161675</td>\n",
       "      <td>1.000000</td>\n",
       "      <td>-0.321342</td>\n",
       "    </tr>\n",
       "    <tr>\n",
       "      <th>yr_renovated</th>\n",
       "      <td>-0.028774</td>\n",
       "      <td>-0.061082</td>\n",
       "      <td>-0.215886</td>\n",
       "      <td>-0.122817</td>\n",
       "      <td>-0.022730</td>\n",
       "      <td>-0.233996</td>\n",
       "      <td>0.008625</td>\n",
       "      <td>0.022967</td>\n",
       "      <td>-0.186818</td>\n",
       "      <td>-0.160426</td>\n",
       "      <td>0.043125</td>\n",
       "      <td>-0.321342</td>\n",
       "      <td>1.000000</td>\n",
       "    </tr>\n",
       "  </tbody>\n",
       "</table>\n",
       "</div>"
      ],
      "text/plain": [
       "                  price  bedrooms  bathrooms  sqft_living  sqft_lot    floors  \\\n",
       "price          1.000000  0.200336   0.327110     0.430410  0.050451  0.151461   \n",
       "bedrooms       0.200336  1.000000   0.545920     0.594884  0.068819  0.177895   \n",
       "bathrooms      0.327110  0.545920   1.000000     0.761154  0.107837  0.486428   \n",
       "sqft_living    0.430410  0.594884   0.761154     1.000000  0.210538  0.344850   \n",
       "sqft_lot       0.050451  0.068819   0.107837     0.210538  1.000000  0.003750   \n",
       "floors         0.151461  0.177895   0.486428     0.344850  0.003750  1.000000   \n",
       "waterfront     0.135648 -0.003483   0.076232     0.117616  0.017241  0.022024   \n",
       "view           0.228504  0.111028   0.211960     0.311009  0.073907  0.031211   \n",
       "condition      0.034915  0.025080  -0.119994    -0.062826  0.000558 -0.275013   \n",
       "sqft_above     0.367570  0.484705   0.689918     0.876443  0.216455  0.522814   \n",
       "sqft_basement  0.210427  0.334165   0.298020     0.447206  0.034842 -0.255510   \n",
       "yr_built       0.021857  0.142461   0.463498     0.287775  0.050706  0.467481   \n",
       "yr_renovated  -0.028774 -0.061082  -0.215886    -0.122817 -0.022730 -0.233996   \n",
       "\n",
       "               waterfront      view  condition  sqft_above  sqft_basement  \\\n",
       "price            0.135648  0.228504   0.034915    0.367570       0.210427   \n",
       "bedrooms        -0.003483  0.111028   0.025080    0.484705       0.334165   \n",
       "bathrooms        0.076232  0.211960  -0.119994    0.689918       0.298020   \n",
       "sqft_living      0.117616  0.311009  -0.062826    0.876443       0.447206   \n",
       "sqft_lot         0.017241  0.073907   0.000558    0.216455       0.034842   \n",
       "floors           0.022024  0.031211  -0.275013    0.522814      -0.255510   \n",
       "waterfront       1.000000  0.360935   0.000352    0.078911       0.097501   \n",
       "view             0.360935  1.000000   0.063077    0.174327       0.321602   \n",
       "condition        0.000352  0.063077   1.000000   -0.178196       0.200632   \n",
       "sqft_above       0.078911  0.174327  -0.178196    1.000000      -0.038723   \n",
       "sqft_basement    0.097501  0.321602   0.200632   -0.038723       1.000000   \n",
       "yr_built        -0.023563 -0.064465  -0.399698    0.408535      -0.161675   \n",
       "yr_renovated     0.008625  0.022967  -0.186818   -0.160426       0.043125   \n",
       "\n",
       "               yr_built  yr_renovated  \n",
       "price          0.021857     -0.028774  \n",
       "bedrooms       0.142461     -0.061082  \n",
       "bathrooms      0.463498     -0.215886  \n",
       "sqft_living    0.287775     -0.122817  \n",
       "sqft_lot       0.050706     -0.022730  \n",
       "floors         0.467481     -0.233996  \n",
       "waterfront    -0.023563      0.008625  \n",
       "view          -0.064465      0.022967  \n",
       "condition     -0.399698     -0.186818  \n",
       "sqft_above     0.408535     -0.160426  \n",
       "sqft_basement -0.161675      0.043125  \n",
       "yr_built       1.000000     -0.321342  \n",
       "yr_renovated  -0.321342      1.000000  "
      ]
     },
     "execution_count": 46,
     "metadata": {},
     "output_type": "execute_result"
    }
   ],
   "source": [
    "cor=data.corr()\n",
    "cor"
   ]
  },
  {
   "cell_type": "code",
   "execution_count": 47,
   "id": "ea833663",
   "metadata": {
    "execution": {
     "iopub.execute_input": "2022-10-12T17:12:31.105722Z",
     "iopub.status.busy": "2022-10-12T17:12:31.105216Z",
     "iopub.status.idle": "2022-10-12T17:12:32.400151Z",
     "shell.execute_reply": "2022-10-12T17:12:32.398777Z"
    },
    "papermill": {
     "duration": 1.309046,
     "end_time": "2022-10-12T17:12:32.403407",
     "exception": false,
     "start_time": "2022-10-12T17:12:31.094361",
     "status": "completed"
    },
    "scrolled": false,
    "tags": []
   },
   "outputs": [
    {
     "data": {
      "image/png": "[encoded data removed]",
      "text/plain": [
       "<Figure size 864x576 with 2 Axes>"
      ]
     },
     "metadata": {},
     "output_type": "display_data"
    }
   ],
   "source": [
    "sns.set(rc={'figure.figsize':(12,8)})\n",
    "sns.heatmap(data.corr(), annot=True,cmap='RdBu');"
   ]
  },
  {
   "cell_type": "markdown",
   "id": "7353b2d8",
   "metadata": {
    "papermill": {
     "duration": 0.011553,
     "end_time": "2022-10-12T17:12:32.427019",
     "exception": false,
     "start_time": "2022-10-12T17:12:32.415466",
     "status": "completed"
    },
    "tags": []
   },
   "source": [
    "Seaborn heatmap for a correlation matrix after specifying a custom colourmap."
   ]
  },
  {
   "cell_type": "markdown",
   "id": "a8545a1a",
   "metadata": {
    "papermill": {
     "duration": 0.011162,
     "end_time": "2022-10-12T17:12:32.449596",
     "exception": false,
     "start_time": "2022-10-12T17:12:32.438434",
     "status": "completed"
    },
    "tags": []
   },
   "source": [
    "**converting data form categorical data to numerical data**"
   ]
  },
  {
   "cell_type": "code",
   "execution_count": 48,
   "id": "10e974a0",
   "metadata": {
    "execution": {
     "iopub.execute_input": "2022-10-12T17:12:32.474493Z",
     "iopub.status.busy": "2022-10-12T17:12:32.474013Z",
     "iopub.status.idle": "2022-10-12T17:12:32.488273Z",
     "shell.execute_reply": "2022-10-12T17:12:32.487016Z"
    },
    "papermill": {
     "duration": 0.029983,
     "end_time": "2022-10-12T17:12:32.490996",
     "exception": false,
     "start_time": "2022-10-12T17:12:32.461013",
     "status": "completed"
    },
    "tags": []
   },
   "outputs": [],
   "source": [
    "ci=pd.get_dummies(data['city'])\n",
    "#st=pd.get_dummies(data['street'])\n",
    "co=pd.get_dummies(data['country'])\n",
    "state=pd.get_dummies(data['statezip'])"
   ]
  },
  {
   "cell_type": "markdown",
   "id": "d73c11e2",
   "metadata": {
    "papermill": {
     "duration": 0.011117,
     "end_time": "2022-10-12T17:12:32.513542",
     "exception": false,
     "start_time": "2022-10-12T17:12:32.502425",
     "status": "completed"
    },
    "tags": []
   },
   "source": [
    "**Split the data**"
   ]
  },
  {
   "cell_type": "code",
   "execution_count": 49,
   "id": "266db8c1",
   "metadata": {
    "execution": {
     "iopub.execute_input": "2022-10-12T17:12:32.539181Z",
     "iopub.status.busy": "2022-10-12T17:12:32.538634Z",
     "iopub.status.idle": "2022-10-12T17:12:32.558236Z",
     "shell.execute_reply": "2022-10-12T17:12:32.556407Z"
    },
    "papermill": {
     "duration": 0.035835,
     "end_time": "2022-10-12T17:12:32.561110",
     "exception": false,
     "start_time": "2022-10-12T17:12:32.525275",
     "status": "completed"
    },
    "tags": []
   },
   "outputs": [],
   "source": [
    "y = data.price.values\n",
    "data = data.drop(['price'], axis = 1)\n",
    "data = data.drop(['date','street','city','statezip','country'], axis = 1)\n",
    "data=pd.concat([data,state,ci,co],axis=1)\n",
    "X = data.to_numpy()\n",
    "colnames = data.columns"
   ]
  },
  {
   "cell_type": "code",
   "execution_count": 50,
   "id": "d34c11ab",
   "metadata": {
    "execution": {
     "iopub.execute_input": "2022-10-12T17:12:32.586021Z",
     "iopub.status.busy": "2022-10-12T17:12:32.585517Z",
     "iopub.status.idle": "2022-10-12T17:12:32.602419Z",
     "shell.execute_reply": "2022-10-12T17:12:32.601053Z"
    },
    "papermill": {
     "duration": 0.032524,
     "end_time": "2022-10-12T17:12:32.605094",
     "exception": false,
     "start_time": "2022-10-12T17:12:32.572570",
     "status": "completed"
    },
    "tags": []
   },
   "outputs": [],
   "source": [
    "X_train, X_test,Y_train, Y_test = train_test_split(X,y,test_size=0.25, random_state=0)"
   ]
  },
  {
   "cell_type": "markdown",
   "id": "5b1b4f60",
   "metadata": {
    "papermill": {
     "duration": 0.011186,
     "end_time": "2022-10-12T17:12:32.627495",
     "exception": false,
     "start_time": "2022-10-12T17:12:32.616309",
     "status": "completed"
    },
    "tags": []
   },
   "source": [
    "Train our modelS"
   ]
  },
  {
   "cell_type": "code",
   "execution_count": 51,
   "id": "caa591b7",
   "metadata": {
    "execution": {
     "iopub.execute_input": "2022-10-12T17:12:32.652792Z",
     "iopub.status.busy": "2022-10-12T17:12:32.651985Z",
     "iopub.status.idle": "2022-10-12T17:12:32.726595Z",
     "shell.execute_reply": "2022-10-12T17:12:32.725218Z"
    },
    "papermill": {
     "duration": 0.100434,
     "end_time": "2022-10-12T17:12:32.739508",
     "exception": false,
     "start_time": "2022-10-12T17:12:32.639074",
     "status": "completed"
    },
    "tags": []
   },
   "outputs": [
    {
     "name": "stdout",
     "output_type": "stream",
     "text": [
      "CPU times: total: 0 ns\n",
      "Wall time: 0 ns\n"
     ]
    },
    {
     "data": {
      "text/plain": [
       "LinearRegression()"
      ]
     },
     "execution_count": 51,
     "metadata": {},
     "output_type": "execute_result"
    }
   ],
   "source": [
    "%time\n",
    "lr = LinearRegression()\n",
    "lr.fit(X_train, Y_train)"
   ]
  },
  {
   "cell_type": "code",
   "execution_count": 52,
   "id": "ef9d2137",
   "metadata": {
    "execution": {
     "iopub.execute_input": "2022-10-12T17:12:32.802825Z",
     "iopub.status.busy": "2022-10-12T17:12:32.802045Z",
     "iopub.status.idle": "2022-10-12T17:12:32.815204Z",
     "shell.execute_reply": "2022-10-12T17:12:32.813542Z"
    },
    "papermill": {
     "duration": 0.049329,
     "end_time": "2022-10-12T17:12:32.820042",
     "exception": false,
     "start_time": "2022-10-12T17:12:32.770713",
     "status": "completed"
    },
    "tags": []
   },
   "outputs": [],
   "source": [
    "pred = lr.predict(X_test)"
   ]
  },
  {
   "cell_type": "markdown",
   "id": "aae6107f",
   "metadata": {
    "papermill": {
     "duration": 0.033173,
     "end_time": "2022-10-12T17:12:32.891500",
     "exception": false,
     "start_time": "2022-10-12T17:12:32.858327",
     "status": "completed"
    },
    "tags": []
   },
   "source": [
    "**Evaluation**"
   ]
  },
  {
   "cell_type": "code",
   "execution_count": 53,
   "id": "958015cf",
   "metadata": {
    "execution": {
     "iopub.execute_input": "2022-10-12T17:12:32.944675Z",
     "iopub.status.busy": "2022-10-12T17:12:32.944265Z",
     "iopub.status.idle": "2022-10-12T17:12:32.954114Z",
     "shell.execute_reply": "2022-10-12T17:12:32.952426Z"
    },
    "papermill": {
     "duration": 0.031937,
     "end_time": "2022-10-12T17:12:32.956600",
     "exception": false,
     "start_time": "2022-10-12T17:12:32.924663",
     "status": "completed"
    },
    "tags": []
   },
   "outputs": [
    {
     "data": {
      "text/plain": [
       "0.7235442213023581"
      ]
     },
     "execution_count": 53,
     "metadata": {},
     "output_type": "execute_result"
    }
   ],
   "source": [
    "from sklearn.metrics import r2_score\n",
    "score=r2_score(Y_test,pred)\n",
    "score"
   ]
  },
  {
   "cell_type": "code",
   "execution_count": 54,
   "id": "d9eec64e",
   "metadata": {
    "execution": {
     "iopub.execute_input": "2022-10-12T17:12:32.987218Z",
     "iopub.status.busy": "2022-10-12T17:12:32.985687Z",
     "iopub.status.idle": "2022-10-12T17:12:32.997413Z",
     "shell.execute_reply": "2022-10-12T17:12:32.995375Z"
    },
    "papermill": {
     "duration": 0.031583,
     "end_time": "2022-10-12T17:12:33.000609",
     "exception": false,
     "start_time": "2022-10-12T17:12:32.969026",
     "status": "completed"
    },
    "tags": []
   },
   "outputs": [
    {
     "name": "stdout",
     "output_type": "stream",
     "text": [
      "Mean Absolute Error: 114478.77620449262\n",
      "Mean Squared Error: 39472396912.91993\n",
      "Root Mean Squared Error: 198676.61390541145\n"
     ]
    }
   ],
   "source": [
    "print('Mean Absolute Error:', metrics.mean_absolute_error(Y_test, pred))\n",
    "print('Mean Squared Error:', metrics.mean_squared_error(Y_test, pred))\n",
    "print('Root Mean Squared Error:', np.sqrt(metrics.mean_squared_error(Y_test, pred)))"
   ]
  },
  {
   "cell_type": "code",
   "execution_count": 55,
   "id": "4dd97ea9",
   "metadata": {
    "execution": {
     "iopub.execute_input": "2022-10-12T17:12:33.028032Z",
     "iopub.status.busy": "2022-10-12T17:12:33.026292Z",
     "iopub.status.idle": "2022-10-12T17:12:33.033046Z",
     "shell.execute_reply": "2022-10-12T17:12:33.031448Z"
    },
    "papermill": {
     "duration": 0.023098,
     "end_time": "2022-10-12T17:12:33.036116",
     "exception": false,
     "start_time": "2022-10-12T17:12:33.013018",
     "status": "completed"
    },
    "tags": []
   },
   "outputs": [],
   "source": [
    "from sklearn.linear_model import ( Ridge, Lasso)\n"
   ]
  },
  {
   "cell_type": "markdown",
   "id": "ab2055fa",
   "metadata": {
    "papermill": {
     "duration": 0.011357,
     "end_time": "2022-10-12T17:12:33.059384",
     "exception": false,
     "start_time": "2022-10-12T17:12:33.048027",
     "status": "completed"
    },
    "tags": []
   },
   "source": [
    "**Lasso Regression**"
   ]
  },
  {
   "cell_type": "code",
   "execution_count": 56,
   "id": "6ecff911",
   "metadata": {
    "execution": {
     "iopub.execute_input": "2022-10-12T17:12:33.084895Z",
     "iopub.status.busy": "2022-10-12T17:12:33.084403Z",
     "iopub.status.idle": "2022-10-12T17:12:33.728967Z",
     "shell.execute_reply": "2022-10-12T17:12:33.727286Z"
    },
    "papermill": {
     "duration": 0.662489,
     "end_time": "2022-10-12T17:12:33.733639",
     "exception": false,
     "start_time": "2022-10-12T17:12:33.071150",
     "status": "completed"
    },
    "tags": []
   },
   "outputs": [
    {
     "name": "stdout",
     "output_type": "stream",
     "text": [
      "CPU times: total: 0 ns\n",
      "Wall time: 0 ns\n"
     ]
    },
    {
     "name": "stderr",
     "output_type": "stream",
     "text": [
      "C:\\Users\\91704\\anaconda3\\lib\\site-packages\\sklearn\\linear_model\\_coordinate_descent.py:647: ConvergenceWarning: Objective did not converge. You might want to increase the number of iterations, check the scale of the features or consider increasing regularisation. Duality gap: 4.669e+14, tolerance: 1.298e+11\n",
      "  model = cd_fast.enet_coordinate_descent(\n"
     ]
    },
    {
     "data": {
      "text/plain": [
       "0.7235647576342306"
      ]
     },
     "execution_count": 56,
     "metadata": {},
     "output_type": "execute_result"
    }
   ],
   "source": [
    "%time\n",
    "la=Lasso()\n",
    "la.fit(X_train, Y_train)\n",
    "pred = la.predict(X_test)\n",
    "la.score(X_test,Y_test)"
   ]
  },
  {
   "cell_type": "markdown",
   "id": "b3035203",
   "metadata": {
    "papermill": {
     "duration": 0.044054,
     "end_time": "2022-10-12T17:12:33.829232",
     "exception": false,
     "start_time": "2022-10-12T17:12:33.785178",
     "status": "completed"
    },
    "tags": []
   },
   "source": [
    "**Ridge Regression**"
   ]
  },
  {
   "cell_type": "code",
   "execution_count": 57,
   "id": "9f490fec",
   "metadata": {
    "execution": {
     "iopub.execute_input": "2022-10-12T17:12:33.857476Z",
     "iopub.status.busy": "2022-10-12T17:12:33.857105Z",
     "iopub.status.idle": "2022-10-12T17:12:33.905448Z",
     "shell.execute_reply": "2022-10-12T17:12:33.903792Z"
    },
    "papermill": {
     "duration": 0.066564,
     "end_time": "2022-10-12T17:12:33.909758",
     "exception": false,
     "start_time": "2022-10-12T17:12:33.843194",
     "status": "completed"
    },
    "tags": []
   },
   "outputs": [
    {
     "name": "stdout",
     "output_type": "stream",
     "text": [
      "CPU times: total: 0 ns\n",
      "Wall time: 0 ns\n"
     ]
    },
    {
     "data": {
      "text/plain": [
       "0.7053829290016818"
      ]
     },
     "execution_count": 57,
     "metadata": {},
     "output_type": "execute_result"
    }
   ],
   "source": [
    "%time\n",
    "ri=Ridge(alpha = 20.0)\n",
    "ri.fit(X_train, Y_train)\n",
    "pred = ri.predict(X_test)\n",
    "ri.score(X_test,Y_test)"
   ]
  },
  {
   "cell_type": "code",
   "execution_count": null,
   "id": "25e78b32",
   "metadata": {
    "papermill": {
     "duration": 0.050259,
     "end_time": "2022-10-12T17:12:34.016737",
     "exception": false,
     "start_time": "2022-10-12T17:12:33.966478",
     "status": "completed"
    },
    "tags": []
   },
   "outputs": [],
   "source": []
  }
 ],
 "metadata": {
  "kernelspec": {
   "display_name": "Python 3 (ipykernel)",
   "language": "python",
   "name": "python3"
  },
  "language_info": {
   "codemirror_mode": {
    "name": "ipython",
    "version": 3
   },
   "file_extension": ".py",
   "mimetype": "text/x-python",
   "name": "python",
   "nbconvert_exporter": "python",
   "pygments_lexer": "ipython3",
   "version": "3.9.12"
  },
  "papermill": {
   "default_parameters": {},
   "duration": 15.105523,
   "end_time": "2022-10-12T17:12:35.055028",
   "environment_variables": {},
   "exception": null,
   "input_path": "__notebook__.ipynb",
   "output_path": "__notebook__.ipynb",
   "parameters": {},
   "start_time": "2022-10-12T17:12:19.949505",
   "version": "2.3.4"
  }
 },
 "nbformat": 4,
 "nbformat_minor": 5
}
